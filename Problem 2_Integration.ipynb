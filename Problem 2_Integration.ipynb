{
  "metadata": {
    "kernelspec": {
      "name": "python",
      "display_name": "Python (Pyodide)",
      "language": "python"
    },
    "language_info": {
      "codemirror_mode": {
        "name": "python",
        "version": 3
      },
      "file_extension": ".py",
      "mimetype": "text/x-python",
      "name": "python",
      "nbconvert_exporter": "python",
      "pygments_lexer": "ipython3",
      "version": "3.8"
    }
  },
  "nbformat_minor": 4,
  "nbformat": 4,
  "cells": [
    {
      "cell_type": "markdown",
      "source": "<div style=\"text-align: center;\">\n    <span style=\"font-family: 'Calibri'; font-size: 22px; font-weight: bold;\">Εργασία 2 - Ροπή Αδράνειας Ράβδου <br></span>\n</div>\n<span style=\"font-family: 'Calibri'; font-size: 16px; font-weight: bold;\">EΡΩΤΗΜΑ 1. \n<span style=\"font-family: 'Calibri'; font-size: 14px; font-style: italic; font-weight: normal;\"><br>Υπολογίστε την ροπή αδράνειας και την μάζα ράβδου L=2m της οποίας η πυκνότητα κατανέμεται ως : ρ= exp(x^2). Να χρησιμοποιήσετε ολοκλήρωση 10 τμημάτων (n=10) με τις μεθόδους:<br>Ι) Τραπεζίου <br>II) Simpson <br> III) Gauss 2 σημείων <br> ΙV) Gauss 3 σημείων</span>",
      "metadata": {}
    },
    {
      "cell_type": "code",
      "source": "import numpy as np\nimport math\nimport matplotlib.pyplot as plt",
      "metadata": {
        "trusted": true
      },
      "outputs": [],
      "execution_count": 1
    },
    {
      "cell_type": "code",
      "source": "#Εισαγωγή Σταθερών\nn = 10\nL = 2\nh = L/n #(h= L/n = 0.2)\na = -1  #κάτω άκρο ολοκήρωσης\nb = 1   #πάνω άκρο ολοκλήρωσης\n\nx = np.linspace(-1, 1, n+1) #Πίνακας τιμών απο το -1 μέχρι το 1 με βήμα h=0.2\nex2 = []   #Λιστα τιμών για το exp(x^2)\nxex2 = []  #Λίστα τιμών για το x*exp(x^2)\n\n#Συμπλήρωση Τιμών για τους πίνακες ex2 και xex2\nfor i in range(len(x)):\n    res = math.exp(x[i]**2)\n    res2 = x[i]**2 * math.exp(x[i]**2)\n    ex2.append (res)\n    xex2.append (res2)\n\n#Μετατροπή Λιστών σε Array NumPy\nex = np.array (ex2)\nxex = np.array (xex2)\n    \n#Ορισμός Συνάρτησης για την Μέθοδο Τραπεζίου \ndef trap(n, y):\n    temp = sum(y[1:-1])  # Άθροισμα όλων των ενδιάμεσων όρων\n    res = h * (y[0]/2 + temp + y[-1]/2) \n    \n    return res\n\n#Yπολογισμός Μάζας και Ροπής Αρδάνειας\nm_t = trap(n, ex)\nI_t = trap(n, xex)\n\n#Εκτύπωση Αποτελεσμάτων\nprint (\"Μέθδος \\t\\t\\tΜάζα \\t\\t\\tΡοπή Αράνειας\")\nprint (\"-\" * 65)\nprint (\"Τραπεζίου \\t|\\t%f \\t|\\t%f \\t|\" %(m_t, I_t))\n\n#Ορισμός Συνάρτησης για την Μέθοδο Simpson 1/3\ndef simpson(n, y):\n    temp1 = 0 \n    \n    for i in range(1,n):\n        if i % 2 == 0:\n            temp1 += 2*y[i]\n        else: \n            temp1 += 4*y[i]\n        \n        res = h/3 * (y[0] + temp1 + y[-1])\n\n    return res\n\n# Υπολογισμός Μάζας και ροπής Αδράνειας\nm_s = simpson (n, ex)\nI_s = simpson (n, xex)\n\n#Εκτύπωση Αποτελεσμάτων\nprint (\"Simpson \\t|\\t%f \\t|\\t%f \\t|\" %(m_s, I_s))\n\n#Oρισμός Συνάρτησης για την Μέθοδο Gauss 2 και 3 Σημείων\ndef gauss(n, a, b, y):\n    \n    #Έλεγχος n\n    if n==2:\n        nodes = [-math.sqrt(1/3), math.sqrt(1/3)]\n        w = [1, 1]\n    elif n == 3:\n        nodes = [-math.sqrt(3/5), 0, math.sqrt(3/5)]\n        w = [5/9, 8/9, 5/9]\n    else:\n        return 0\n\n    #Μετατροπή κόνβων για [-1,1]\n    n1 = [] #Κενή Λίστα που θα εισάγουμε τα νέα n\n    for j in nodes:\n        x1 = (b - a) / 2 * j + (a + b) / 2  \n        n1.append(x1)  \n\n    #Μετασχηματισμός συντελεστών βάρους για [-1,1]\n    w1 = []\n    for i in w:\n        w2 = (b-a)/2 * i\n        w1.append (w2)\n\n    #Υπολογισμός προσέγγισης\n    res = 0\n    for k in range(len(w1)):\n        w = w1[k]\n        x = n1[k]\n\n        y_v = np.interp(x, np.linspace(a, b, len(y)), y)  # Παρεμβολή του y στα σημεία x\n        res += w * y_v\n\n    return res\n\n# Υπολογισμός Μάζας και ροπής Αδράνειας\nm_g2 = gauss(2, a, b, ex)\nI_g2 = gauss(2, a, b, xex)\n\nm_g3 = gauss(3, a, b, ex)\nI_g3 = gauss(3, a, b, xex)\n\n#Εκτύπωση Αποτελεσμάτων\nprint (\"Gauss n=2 \\t|\\t%f \\t|\\t%f \\t|\" %(m_g2, I_g2))\nprint (\"Gauss n=3 \\t|\\t%f \\t|\\t%f \\t|\" %(m_g3, I_g3))\n    ",
      "metadata": {
        "trusted": true
      },
      "outputs": [
        {
          "name": "stdout",
          "text": "Μέθδος \t\t\tΜάζα \t\t\tΡοπή Αράνειας\n-----------------------------------------------------------------\nΤραπεζίου \t|\t2.961309 \t|\t1.327313 \t|\nSimpson \t|\t2.926204 \t|\t1.258611 \t|\nGauss n=2 \t|\t2.807811 \t|\t0.957652 \t|\nGauss n=3 \t|\t2.930725 \t|\t1.250136 \t|\n",
          "output_type": "stream"
        }
      ],
      "execution_count": 2
    },
    {
      "cell_type": "markdown",
      "source": "<span style=\"font-family: 'Calibri'; font-size: 16px; font-weight: bold;\"><br>EΡΩΤΗΜΑ 2. \n<span style=\"font-family: 'Calibri'; font-size: 14px; font-style: italic; font-weight: normal;\"><br>Υπολογίστε αριθμητικά την μάζα κυλινδρικού δίσκου μοναδιαίας ακτίνας (R=1) με επιφανειακή πυκνότητα που δίνεται ως σ(r,φ) = 1 + exp(r)*cos(φ)</span>",
      "metadata": {}
    },
    {
      "cell_type": "code",
      "source": "# Εισαγωγή Σταθερών\na, b = 0, 1           # Άκρα ολοκλήρωσης στο r\nc, d = 0, 2 * math.pi # Άκρα ολοκλήρωσης στο φ\n\n# Ορισμός συνάρτησης Μάζας\ndef mass(φ, r):\n    return (1 + np.exp(r) * math.cos(φ)) * r\n\n# Μέθοδος Simpson για τον άξονα r\ndef simp_r(n, a, b, φ1):\n    int_a = mass(φ1, a) + mass(φ1, b)  # Τιμές στα άκρα a, b\n    int_b = 0\n    int_c = 0\n\n    # Υπολογισμός Τιμών για όλα τα ενδιάμεσα σημεία\n    for i in range(1, n):\n        r1 = a + h_r * i\n        if i % 2 == 0:\n            int_b += 2 * mass(φ1, r1)\n        else:\n            int_c += 4 * mass(φ1, r1)\n\n    res = (h_r / 3) * (int_a + int_b + int_c)\n    return res\n\n# Μέθοδος Simpson για το ολοκλήρωμα στην διάσταση φ\ndef integral(a, b, c, d, n, m):\n    int_a = simp_r(n, c, d, a)  # Υπολογισμός για το πρώτο άκρο\n    int_b = simp_r(n, c, d, b)  # Υπολογισμός για το Δεύτερο άκρο\n    int_ab = int_a + int_b\n\n    int_c = 0\n    int_d = 0\n\n    # Υπολογισμός Τιμών για όλα τα ενδιάμεσα σημεία στον άξονα φ\n    for k in range(1, m):\n        φ2 = c + h_φ * k\n        if k % 2 == 0:\n            int_c += 2 * simp_r(n, a, b, φ2)\n        else:\n            int_d += 4 * simp_r(n, a, b, φ2)\n\n    # Υπολογισμός του ολοκληρώματος\n    res = (h_φ / 3) * (int_ab + int_c + int_d)\n    return res\n\n# Υπολογισμός και Εκτύπωση Αποτελέσματος\nfor i in range (1,4):\n    n, m = 10**i, 10**i       #Υποδιαστήματα για το r, φ άξονα\n\n    h_r = (b - a) / n    # Βήμα για τον άξονα r\n    h_φ = (d - c) / m    #Βήμα για τον άξονα φ\n    result = integral(a, b, c, d, n, m)\n    print(\"Το ολοκλήρωμα για (n,m)=(%d,%d) δίνει: %.4f\" %(n,m,result))",
      "metadata": {
        "trusted": true
      },
      "outputs": [
        {
          "name": "stdout",
          "text": "Το ολοκλήρωμα για (n,m)=(10,10) δίνει: 39.2705\nΤο ολοκλήρωμα για (n,m)=(100,100) δίνει: 3.4942\nΤο ολοκλήρωμα για (n,m)=(1000,1000) δίνει: 3.1443\n",
          "output_type": "stream"
        }
      ],
      "execution_count": 2
    },
    {
      "cell_type": "code",
      "source": "",
      "metadata": {
        "trusted": true
      },
      "outputs": [],
      "execution_count": null
    }
  ]
}