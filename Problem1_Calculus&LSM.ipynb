{
  "metadata": {
    "kernelspec": {
      "name": "python",
      "display_name": "Python (Pyodide)",
      "language": "python"
    },
    "language_info": {
      "codemirror_mode": {
        "name": "python",
        "version": 3
      },
      "file_extension": ".py",
      "mimetype": "text/x-python",
      "name": "python",
      "nbconvert_exporter": "python",
      "pygments_lexer": "ipython3",
      "version": "3.8"
    }
  },
  "nbformat_minor": 4,
  "nbformat": 4,
  "cells": [
    {
      "cell_type": "markdown",
      "source": "<div style=\"text-align: center;\">\n    <span style=\"font-family: 'Calibri'; font-size: 22px; font-weight: bold;\">Εργασία 1 - Βολή σε Κεκλιμένο Επίπεδο <br></span>\n</div>\n<span style=\"font-family: 'Calibri'; font-size: 16px; font-weight: bold;\">EΡΩΤΗΜΑ 1. \n<span style=\"font-family: 'Calibri'; font-size: 14px; font-style: italic; font-weight: normal;\">Γράψτε ένα πρόγραμμα που να υπολογίζει την ταχύτητα του βλήματος με ακρίβεια 2ης τάξης για όλα τα t που έχουν δωθεί </span>",
      "metadata": {}
    },
    {
      "cell_type": "code",
      "source": "import numpy as np\nimport math\nimport matplotlib.pyplot as pyt",
      "metadata": {
        "trusted": true
      },
      "outputs": [],
      "execution_count": 7
    },
    {
      "cell_type": "code",
      "source": "#Εισαγωγή Δεδομένων\nt = np.array ([0, 5, 15, 25, 35, 45, 55, 65, 75, 85, 95, 105, 115])\ns = np.array ([0.0, 4892.3, 14041.3, 22371.3, 29926.1, 36764.4, 42965.4, 48634.8, 53910.3, 58961.8, 63981.6, 69165.5, 74962.1])\nh = 10\n\n#Υπολογισμοί Αριθμητικής Προσέγγισης Παραγώγου Midpoint \nu = np.array([])\n\nfor j in range(len(t)-2):\n    v = (s[j+2] - s[j])/(2*h)\n    u = np.append (u, v)\n\n#Υπολογισμός Τελευταίου Σημείου (t=115s) με Εμπρος Παραγώγιση σε 3 Σημεία\nv_last = (3 * s[12] - 4 * s[11] + s[10]) / (2 * h)\nu = np.append(u, v_last)\n    \n#Εκτύπωση αποτελεσμάτων\nfor i in range(len(u)):\n    time = 5 + (10*i) \n    print ('Για t=%d, έχουμε u%d=%.3f' %(time, i+1, u[i]))",
      "metadata": {
        "trusted": true
      },
      "outputs": [
        {
          "name": "stdout",
          "text": "Για t=5, έχουμε u1=702.065\nΓια t=15, έχουμε u2=873.950\nΓια t=25, έχουμε u3=794.240\nΓια t=35, έχουμε u4=719.655\nΓια t=45, έχουμε u5=651.965\nΓια t=55, έχουμε u6=593.520\nΓια t=65, έχουμε u7=547.245\nΓια t=75, έχουμε u8=516.350\nΓια t=85, έχουμε u9=503.565\nΓια t=95, έχουμε u10=510.185\nΓια t=105, έχουμε u11=549.025\nΓια t=115, έχουμε u12=610.295\n",
          "output_type": "stream"
        }
      ],
      "execution_count": 8
    },
    {
      "cell_type": "markdown",
      "source": "<span style=\"font-family: 'Calibri'; font-size: 16px; font-weight: bold;\"><br>EΡΩΤΗΜΑ 2.</span> \n<span style=\"font-family: 'CaLibri'; font-size: 14px; font-weight: normal;\">Γράψτε ένα πρόγραμμα που να υπολογίζει την ταχύτητα με πολυονυμική παρεμβολή 2ου βαθμού (είτε Lagrange είτε Newton) για τα σημεία t=75,76..95s, απο τις τιμές v(75), v(85), v(95) που βρήκατε παραπάνω. </span>",
      "metadata": {}
    },
    {
      "cell_type": "code",
      "source": "#Εισαγωγή Δεδομένων\nt_values = np.arange(75,96,1)  #Πίνακας τιμών απο το 75 μέχρι το 95 με βήμα 1\nt_points = np.array([75, 85, 95])       #Πίνακας μόνο με τα t που θα χρησιμοποιηθούν\nu_points = np.array([516.350, 503.565, 510.185]) #Πίνακας μόνο με τα u που θα χρησιμοποιηθούν\n\n#Συναρτηση Υπολογισμού Προσεγγισης Lagrange\ndef lagrange(t1, x1, y1):\n  \n    n = len(x1)\n    result = 0\n\n    # Υπολογισμός του όρου L_i(x)    \n    for i in range(n):\n        term = y1[i]\n        for j in range(n):\n            if i != j:\n                term *= (t1 - x1[j]) / (x1[i] - x1[j])\n        result += term\n    \n    return result\n\n#Υπολογισμός της Προσέγγισης για t=75,76,...,95\nres = []  #Πίνακας Αποτελεσμάτων\n\nfor t2 in t_values:\n    v1 = lagrange(t2, t_points, u_points)\n    res.append(v1) #Προσθήκη των Υπολογισμών στον Πίνακα Αποτελεσμάτων\n\n#Εκτύπωση Αποτελεσμάτων\nprint(\"Η εκτίμηση της ταχύτητας μέσω πολυονύμου Lagrange στα σημεία t = 75, 76, ..., 95, είναι:\\n\")\n\nfor k in range(len(t_values)):\n    t2 = t_values[k]\n    v1 = res[k]\n    print (\"Για t = %d, έχουμε u1= %.4f\" %(t2, v1)) ",
      "metadata": {
        "trusted": true
      },
      "outputs": [
        {
          "name": "stdout",
          "text": "Η εκτίμηση της ταχύτητας μέσω πολυονύμου Lagrange στα σημεία t = 75, 76, ..., 95, είναι:\n\nΓια t = 75, έχουμε u1= 516.3500\nΓια t = 76, έχουμε u1= 514.1983\nΓια t = 77, έχουμε u1= 512.2406\nΓια t = 78, έχουμε u1= 510.4770\nΓια t = 79, έχουμε u1= 508.9074\nΓια t = 80, έχουμε u1= 507.5319\nΓια t = 81, έχουμε u1= 506.3504\nΓια t = 82, έχουμε u1= 505.3630\nΓια t = 83, έχουμε u1= 504.5696\nΓια t = 84, έχουμε u1= 503.9703\nΓια t = 85, έχουμε u1= 503.5650\nΓια t = 86, έχουμε u1= 503.3538\nΓια t = 87, έχουμε u1= 503.3366\nΓια t = 88, έχουμε u1= 503.5135\nΓια t = 89, έχουμε u1= 503.8844\nΓια t = 90, έχουμε u1= 504.4494\nΓια t = 91, έχουμε u1= 505.2084\nΓια t = 92, έχουμε u1= 506.1615\nΓια t = 93, έχουμε u1= 507.3086\nΓια t = 94, έχουμε u1= 508.6498\nΓια t = 95, έχουμε u1= 510.1850\n",
          "output_type": "stream"
        }
      ],
      "execution_count": 9
    },
    {
      "cell_type": "markdown",
      "source": "<span style=\"font-family: 'Calibri'; font-size: 16px; font-weight: bold;\"><br>EΡΩΤΗΜΑ 3.</span> \n<span style=\"font-family: 'CaLibri'; font-size: 14px; font-weight: normal;\">Χρησιμοποιόντας τις τιμές της ταχύτητας απο το πρώτο ερώτημα, να υπολογίστε το ολοκλήρωμα **Simpson 1/3** της ταχύτητας, ώστε να βρείτε το **s(t=115s)**. Στην συνέχεια εκτιμίστε το σφάλμα της μεθόδου Simpson Κια συγκρίνετε την απόκλιση του s που υπολογίσατε, απο αυτό που σας δόθηκε. </span>",
      "metadata": {}
    },
    {
      "cell_type": "code",
      "source": "#Ορισμός συνάρτησης Simpson\ndef simpson (t, u):\n\n    #Προσδιορισμός h,n\n    n = len(t) - 1\n    h = (t[-1] - t[0])/n\n    temp = 0 \n\n    #Έλεγχος Δεδομένων\n    if n % 2 != 0: \n        print (\" Ο αριθμός των υποδιαστημάτων ΔΕΝ είναι άρτιος!\")\n\n    # Εφαρμογή της Μεθόδοτυ Simpson 1/3\n    for i in range(1,n):\n        if i % 2 == 0:\n            temp += 2*u[i]\n        else: \n            temp += 4*u[i]\n        \n        res = h/3 * (u[0] + temp + u[-1])\n\n    return res\n\n#Συνάρτηση Υπολογισμού Σφάλματος Simpson\ndef error(t, u):\n    \n    #Προσδιορισμός h,n\n    n = len(t) - 1\n    h = (t[-1] - t[0])/n\n\n    #εκτίμιση της 4ης παραγώγου με πρεμβολή 5 σημείων\n    f4_max = 0\n    \n    for i in range(2, len(u) - 2):\n        f4 = abs(u[i-2] - 4*u[i-1] + 6*u[i] - 4*u[i+1] + u[i+2]) / h**4\n        f4_max = max(f4_max, f4)\n\n    #Υπολογισμός σφάλματος και επιστροφή\n    error = (h**4 / 180) * (t[-1] - t[0]) * f4_max\n    \n    return error\n\n\nintegr = simpson (t, u)\ner = error(t, u)\n\n#Εκτύπωση Αποτελέσματος\nprint (\"Η προσέγγιση Simpson 1/3 με το σχετικό σφάλμα μας δίνει: %.4f +/- %f\" %(integr, er))\n\n#Απόκλιση % Πειραματικού απο Δεδομένο s\na = (s[12]-integr)*100/integr\n\nprint (\"Η απόκλιση της πειραματικής απο την θεωρητική τιμή είναι: %.2f %%\" %a)\n",
      "metadata": {
        "trusted": true
      },
      "outputs": [
        {
          "name": "stdout",
          "text": "Η προσέγγιση Simpson 1/3 με το σχετικό σφάλμα μας δίνει: 72514.7194 +/- 162.884722\nΗ απόκλιση της πειραματικής απο την θεωρητική τιμή είναι: 3.38 %\n",
          "output_type": "stream"
        }
      ],
      "execution_count": 18
    },
    {
      "cell_type": "code",
      "source": "",
      "metadata": {
        "trusted": true
      },
      "outputs": [],
      "execution_count": null
    }
  ]
}